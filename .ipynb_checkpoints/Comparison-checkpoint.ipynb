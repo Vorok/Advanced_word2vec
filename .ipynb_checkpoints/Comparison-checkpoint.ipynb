{
 "cells": [
  {
   "cell_type": "code",
   "execution_count": 88,
   "metadata": {},
   "outputs": [],
   "source": [
    "import numpy as np\n",
    "from tqdm import tqdm\n",
    "class WordEmbeddings():\n",
    "    def __init__(self, filename):\n",
    "        self.filename = filename\n",
    "        self.word_frequency = dict()\n",
    "        self.word2id = dict()\n",
    "        self.id2word = dict()\n",
    "        self.vocab_size = 0\n",
    "        self.embeddings = None\n",
    "        for i, line in enumerate(open(self.filename, encoding=\"utf8\")):\n",
    "            if i == 0:\n",
    "                line = line.split()\n",
    "                self.vocab_size = int(line[0])\n",
    "                self.embedding_size = int(line[1])\n",
    "                self.embeddings = np.zeros((self.vocab_size, self.embedding_size))\n",
    "                continue\n",
    "            line = line.split(' ', 1)\n",
    "            word = line[0]\n",
    "            self.word2id[word] = i - 1\n",
    "            self.id2word[i - 1] = word\n",
    "            self.embeddings[i - 1, :] = np.fromstring(line[1], dtype=float, sep=' ')\n",
    "    \n",
    "    def embedding_for(self, word):\n",
    "        ind = self.word2id[word]\n",
    "        return self.embeddings[ind, :]\n",
    "    "
   ]
  },
  {
   "cell_type": "code",
   "execution_count": 31,
   "metadata": {},
   "outputs": [],
   "source": [
    "we_penn = WordEmbeddings(\"./embeddings/out_enwik8_penn_500dim_5wind.vec\")\n",
    "we_word2vec = WordEmbeddings(\"./embeddings/out_enwik8_w2v.vec\")"
   ]
  },
  {
   "cell_type": "code",
   "execution_count": 111,
   "metadata": {},
   "outputs": [],
   "source": [
    "from sklearn.metrics.pairwise import cosine_similarity\n",
    "def vectorize_word(we, word):\n",
    "    vec = None\n",
    "    if isinstance(word, np.ndarray):\n",
    "        vec = word\n",
    "    if isinstance(word, str):\n",
    "        vec = we.embedding_for(word)\n",
    "    return vec\n",
    "\n",
    "\n",
    "def similarity(vec1, vec2):\n",
    "    vec = vec.reshape((1, -1))\n",
    "    return cosine_similarity(vec, vec2)\n",
    "  \n",
    "    \n",
    "def nearest_words(we, word, top_n=10):\n",
    "    vec = vectorize_word(we, word)\n",
    "    vec = vec.reshape((1, -1))\n",
    "    cosines = cosine_similarity(vec, we.embeddings)\n",
    "    top10_ind = np.argsort(cosines)[0][::-1][1:top_n+1]\n",
    "    neighbors = [(we.id2word[word_ind], cosines[0][word_ind]) for i, word_ind in enumerate(top10_ind)]\n",
    "    return neighbors\n",
    "\n",
    "\n",
    "def nearest_words_to_pairs_addition(we, word_a, word_b, top_n=10):\n",
    "    vec_a = vectorize_word(we, word_a)\n",
    "    vec_b = vectorize_word(we, word_b)\n",
    "    vec = vec_a + vec_b\n",
    "    vec = vec.reshape((1, -1))\n",
    "    cosines = cosine_similarity(vec, we.embeddings)\n",
    "    top10_ind = np.argsort(cosines)[0][::-1][1:top_n+1]\n",
    "    neighbors = [(we.id2word[word_ind], cosines[0][word_ind]) for i, word_ind in enumerate(top10_ind)]\n",
    "    return neighbors\n",
    "\n",
    "\n",
    "def best_cosine(we, top_n=10):\n",
    "    best_cosins = np.zeros(we.vocab_size, dtype=\"float\")\n",
    "    best_cos_pair = np.zeros(we.vocab_size, dtype=\"int64\")\n",
    "    for ind in tqdm(we.word2id.values()):\n",
    "        #ind = 0\n",
    "        if ind > 100:\n",
    "            break\n",
    "        vec = we.embeddings[ind, :]\n",
    "        vec = vec.reshape((1, -1))\n",
    "        cosines = cosine_similarity(vec, we.embeddings)\n",
    "        word_id = np.argsort(cosines[0])[::-1][1] \n",
    "        best_cosins[ind] = cosines[0][word_id]\n",
    "        best_cos_pair[ind] = word_id\n",
    "    #print(best_cosins[:110])\n",
    "    #print(best_cos_pair[:110])\n",
    "    top_cos_args_id = np.argsort(best_cosins)[::-1][0:top_n]\n",
    "    best_pairs = [(we.id2word[ind], we.id2word[best_cos_pair[ind]], best_cosins[ind]) \n",
    "                  for i, ind in enumerate(top_cos_args_id)]\n",
    "    return best_pairs\n",
    "    \n",
    "    \n",
    "def compare(we_a, we_b, word_a, word_b):\n",
    "    print(\"Words: {} + {}\".format(word_a, word_b))\n",
    "    print(\"Word2vec addition:\\n\", nearest_words_to_pairs_addition(we_a, word_b, word_a), \"\\n\")\n",
    "    print(\"PENN addition:\\n\", nearest_words_to_pairs_addition(we_b, word_b, word_a), \"\\n\")"
   ]
  },
  {
   "cell_type": "code",
   "execution_count": 112,
   "metadata": {},
   "outputs": [
    {
     "name": "stderr",
     "output_type": "stream",
     "text": [
      "\n",
      "  0%|                                                                                        | 0/11731 [00:00<?, ?it/s]\n",
      "  0%|                                                                                | 2/11731 [00:00<19:12, 10.18it/s]\n",
      "  0%|                                                                                | 3/11731 [00:00<20:24,  9.58it/s]\n",
      "  0%|                                                                                | 4/11731 [00:00<21:03,  9.28it/s]\n",
      "  0%|                                                                                | 5/11731 [00:00<21:59,  8.89it/s]\n",
      "  0%|                                                                                | 6/11731 [00:00<22:10,  8.81it/s]\n",
      "  0%|                                                                                | 7/11731 [00:00<23:03,  8.47it/s]\n",
      "  0%|                                                                                | 8/11731 [00:00<23:20,  8.37it/s]\n",
      "  0%|                                                                                | 9/11731 [00:01<23:20,  8.37it/s]\n",
      "  0%|                                                                               | 10/11731 [00:01<22:42,  8.60it/s]\n",
      "  0%|                                                                               | 11/11731 [00:01<23:01,  8.48it/s]\n",
      "  0%|                                                                               | 12/11731 [00:01<23:11,  8.42it/s]\n",
      "  0%|                                                                               | 13/11731 [00:01<23:35,  8.28it/s]\n",
      "  0%|                                                                               | 14/11731 [00:01<23:27,  8.32it/s]\n",
      "  0%|                                                                               | 15/11731 [00:01<23:36,  8.27it/s]\n",
      "  0%|                                                                               | 16/11731 [00:01<23:43,  8.23it/s]\n",
      "  0%|                                                                               | 17/11731 [00:01<22:43,  8.59it/s]\n",
      "  0%|                                                                               | 18/11731 [00:02<23:05,  8.45it/s]\n",
      "  0%|▏                                                                              | 19/11731 [00:02<22:42,  8.60it/s]\n",
      "  0%|▏                                                                              | 20/11731 [00:02<22:52,  8.53it/s]\n",
      "  0%|▏                                                                              | 21/11731 [00:02<23:37,  8.26it/s]\n",
      "  0%|▏                                                                              | 22/11731 [00:02<22:36,  8.63it/s]\n",
      "  0%|▏                                                                              | 23/11731 [00:02<22:25,  8.70it/s]\n",
      "  0%|▏                                                                              | 24/11731 [00:02<25:02,  7.79it/s]\n",
      "  0%|▏                                                                              | 25/11731 [00:02<25:13,  7.73it/s]\n",
      "  0%|▏                                                                              | 26/11731 [00:03<25:49,  7.55it/s]\n",
      "  0%|▏                                                                              | 27/11731 [00:03<25:19,  7.70it/s]\n",
      "  0%|▏                                                                              | 28/11731 [00:03<25:07,  7.76it/s]\n",
      "  0%|▏                                                                              | 29/11731 [00:03<24:35,  7.93it/s]\n",
      "  0%|▏                                                                              | 30/11731 [00:03<23:13,  8.40it/s]\n",
      "  0%|▏                                                                              | 31/11731 [00:03<22:33,  8.65it/s]\n",
      "  0%|▏                                                                              | 32/11731 [00:03<22:33,  8.64it/s]\n",
      "  0%|▏                                                                              | 33/11731 [00:03<22:29,  8.67it/s]\n",
      "  0%|▏                                                                              | 34/11731 [00:04<22:16,  8.75it/s]\n",
      "  0%|▏                                                                              | 35/11731 [00:04<21:53,  8.91it/s]\n",
      "  0%|▏                                                                              | 36/11731 [00:04<22:22,  8.71it/s]\n",
      "  0%|▏                                                                              | 37/11731 [00:04<21:33,  9.04it/s]\n",
      "  0%|▎                                                                              | 38/11731 [00:04<21:12,  9.19it/s]\n",
      "  0%|▎                                                                              | 39/11731 [00:04<20:57,  9.29it/s]\n",
      "  0%|▎                                                                              | 41/11731 [00:04<20:38,  9.44it/s]\n",
      "  0%|▎                                                                              | 42/11731 [00:04<21:19,  9.13it/s]\n",
      "  0%|▎                                                                              | 43/11731 [00:05<21:30,  9.05it/s]\n",
      "  0%|▎                                                                              | 44/11731 [00:05<21:03,  9.25it/s]\n",
      "  0%|▎                                                                              | 45/11731 [00:05<20:48,  9.36it/s]\n",
      "  0%|▎                                                                              | 46/11731 [00:05<21:37,  9.01it/s]\n",
      "  0%|▎                                                                              | 48/11731 [00:05<21:05,  9.23it/s]\n",
      "  0%|▎                                                                              | 49/11731 [00:05<22:02,  8.83it/s]\n",
      "  0%|▎                                                                              | 50/11731 [00:05<21:46,  8.94it/s]\n",
      "  0%|▎                                                                              | 51/11731 [00:05<21:25,  9.09it/s]\n",
      "  0%|▎                                                                              | 52/11731 [00:05<21:17,  9.15it/s]\n",
      "  0%|▎                                                                              | 54/11731 [00:06<20:39,  9.42it/s]\n",
      "  0%|▎                                                                              | 55/11731 [00:06<21:40,  8.98it/s]\n",
      "  0%|▍                                                                              | 56/11731 [00:06<21:14,  9.16it/s]\n",
      "  0%|▍                                                                              | 58/11731 [00:06<20:26,  9.51it/s]\n",
      "  1%|▍                                                                              | 59/11731 [00:06<21:07,  9.21it/s]\n",
      "  1%|▍                                                                              | 60/11731 [00:06<20:57,  9.28it/s]\n",
      "  1%|▍                                                                              | 62/11731 [00:07<20:30,  9.48it/s]\n",
      "  1%|▍                                                                              | 63/11731 [00:07<20:17,  9.58it/s]\n",
      "  1%|▍                                                                              | 65/11731 [00:07<20:09,  9.64it/s]\n",
      "  1%|▍                                                                              | 67/11731 [00:07<20:23,  9.53it/s]\n",
      "  1%|▍                                                                              | 68/11731 [00:07<20:15,  9.59it/s]\n",
      "  1%|▍                                                                              | 69/11731 [00:07<22:50,  8.51it/s]\n",
      "  1%|▍                                                                              | 70/11731 [00:07<24:18,  7.99it/s]\n",
      "  1%|▍                                                                              | 71/11731 [00:08<23:32,  8.26it/s]\n",
      "  1%|▍                                                                              | 73/11731 [00:08<22:29,  8.64it/s]\n",
      "  1%|▌                                                                              | 75/11731 [00:08<21:31,  9.03it/s]\n",
      "  1%|▌                                                                              | 77/11731 [00:08<21:21,  9.09it/s]\n",
      "  1%|▌                                                                              | 78/11731 [00:08<21:10,  9.17it/s]\n"
     ]
    },
    {
     "name": "stderr",
     "output_type": "stream",
     "text": [
      "  1%|▌                                                                              | 80/11731 [00:08<20:32,  9.45it/s]\n",
      "  1%|▌                                                                              | 81/11731 [00:09<20:21,  9.54it/s]\n",
      "  1%|▌                                                                              | 83/11731 [00:09<20:57,  9.26it/s]\n",
      "  1%|▌                                                                              | 84/11731 [00:09<21:41,  8.95it/s]\n",
      "  1%|▌                                                                              | 85/11731 [00:09<22:43,  8.54it/s]\n",
      "  1%|▌                                                                              | 86/11731 [00:09<22:38,  8.57it/s]\n",
      "  1%|▌                                                                              | 87/11731 [00:09<22:14,  8.73it/s]\n",
      "  1%|▌                                                                              | 88/11731 [00:09<21:57,  8.84it/s]\n",
      "  1%|▌                                                                              | 89/11731 [00:10<23:12,  8.36it/s]\n",
      "  1%|▌                                                                              | 90/11731 [00:10<23:33,  8.24it/s]\n",
      "  1%|▌                                                                              | 91/11731 [00:10<23:20,  8.31it/s]\n",
      "  1%|▌                                                                              | 92/11731 [00:10<22:53,  8.47it/s]\n",
      "  1%|▋                                                                              | 93/11731 [00:10<22:45,  8.52it/s]\n",
      "  1%|▋                                                                              | 94/11731 [00:10<23:17,  8.33it/s]\n",
      "  1%|▋                                                                              | 95/11731 [00:10<23:05,  8.40it/s]\n",
      "  1%|▋                                                                              | 96/11731 [00:10<23:38,  8.20it/s]\n",
      "  1%|▋                                                                              | 97/11731 [00:11<24:23,  7.95it/s]\n",
      "  1%|▋                                                                              | 98/11731 [00:11<24:19,  7.97it/s]\n",
      "  1%|▋                                                                              | 99/11731 [00:11<24:27,  7.93it/s]\n",
      "  1%|▋                                                                             | 100/11731 [00:11<23:53,  8.11it/s]\n",
      "  1%|▋                                                                             | 101/11731 [00:11<23:55,  8.10it/s]"
     ]
    },
    {
     "name": "stdout",
     "output_type": "stream",
     "text": [
      "[0.93298813 0.76309549 0.63372499 0.83800261 0.67083864 0.63562201\n",
      " 0.43639846 0.71308091 0.57885185 0.75340587 0.7413149  0.79158781\n",
      " 0.78730249 0.73554745 0.86567987 0.62747356 0.73574825 0.61161891\n",
      " 0.751909   0.64655957 0.64073225 0.79571915 0.56412411 0.50868156\n",
      " 0.90302377 0.66214851 0.70006451 0.74045488 0.89959203 0.83687512\n",
      " 0.7904317  0.80693749 0.86375043 0.75933341 0.87784    0.81496899\n",
      " 0.76913132 0.80810431 0.80567724 0.83661703 0.77189962 0.86310027\n",
      " 0.66213987 0.79323768 0.72163339 0.57224336 0.86088719 0.89531706\n",
      " 0.92219036 0.67076019 0.64085034 0.86694866 0.63633569 0.80904913\n",
      " 0.78105747 0.61128843 0.6734355  0.79133316 0.7462925  0.60183897\n",
      " 0.65539938 0.92157905 0.70505401 0.820533   0.66682051 0.84294975\n",
      " 0.76395816 0.9009661  0.55729284 0.73733714 0.71725512 0.44378967\n",
      " 0.77532336 0.72631684 0.66861082 0.85185821 0.57343762 0.72027217\n",
      " 0.70253603 0.82211399 0.7020259  0.65133724 0.71968435 0.6959185\n",
      " 0.77394089 0.73702804 0.5170715  0.61408094 0.81649785 0.76346201\n",
      " 0.63200834 0.63746379 0.80596052 0.85076877 0.64949788 0.72592057\n",
      " 0.71469972 0.67791017 0.6932289  0.79571915 0.91219543 0.\n",
      " 0.         0.         0.         0.         0.         0.\n",
      " 0.         0.        ]\n",
      "[  773  4858  8677  1320   431  3409    57  6499   824  3982   137 10638\n",
      "   811  7623  9759  8588  1178  2981  1262    30   439    99   996  4276\n",
      "  2166   277  5170  1510   402  2167    29  2050  8329  3040 10387  8068\n",
      "   166   917  8767  5649  2056  8421    29  7505    35   964   152  9190\n",
      "   880   953  7238   723  7143   135  7085  2459  8228  7166   570  7759\n",
      "  7142  2468  1256  1911  2469   664  5318  2468  1575  3188  2920   504\n",
      "   166  1653  4506 10267  3817  8253  4859   402  5760  3376  5815  4947\n",
      "  3508    99  2790    88  8507  2182   414  6410  8068  1559  4022  2740\n",
      "  1198  3127  3548    21   402     0     0     0     0     0     0     0\n",
      "     0     0]\n"
     ]
    },
    {
     "data": {
      "text/plain": [
       "[('anarchism', 'capitalist', 0.9329881297461052),\n",
       " ('authoritarian', 'ideological', 0.9221903590010347),\n",
       " ('voluntary', 'welfare', 0.9215790503997762),\n",
       " ('rothbard', 'anarcho', 0.9121954259992963),\n",
       " ('positive', 'negative', 0.9030237677260745),\n",
       " ('governance', 'welfare', 0.9009660997313156),\n",
       " ('anarchist', 'anarcho', 0.8995920334109205),\n",
       " ('elimination', 'additive', 0.8953170597637081),\n",
       " ('king', 'castile', 0.8778399954593179),\n",
       " ('anarchy', 'criticise', 0.8669486602767631)]"
      ]
     },
     "execution_count": 112,
     "metadata": {},
     "output_type": "execute_result"
    }
   ],
   "source": [
    "best_cosine(we_word2vec)"
   ]
  },
  {
   "cell_type": "code",
   "execution_count": 73,
   "metadata": {
    "scrolled": true
   },
   "outputs": [
    {
     "data": {
      "text/plain": [
       "[('capitalist', 0.9329881297461052),\n",
       " ('capitalism', 0.9026125478341888),\n",
       " ('anarchist', 0.8945130504426946),\n",
       " ('anarcho', 0.8944931630226096),\n",
       " ('libertarian', 0.8798084819004081),\n",
       " ('faire', 0.867901212119998),\n",
       " ('liberalism', 0.8544044630409507),\n",
       " ('laissez', 0.8279008774309387),\n",
       " ('rothbard', 0.8255568321545554),\n",
       " ('communism', 0.8160838067515472)]"
      ]
     },
     "execution_count": 73,
     "metadata": {},
     "output_type": "execute_result"
    }
   ],
   "source": [
    "nearest_words(we_word2vec, \"anarchism\")"
   ]
  },
  {
   "cell_type": "code",
   "execution_count": 74,
   "metadata": {},
   "outputs": [
    {
     "data": {
      "text/plain": [
       "[('individualist', 0.8593052069099795),\n",
       " ('anarchist', 0.8471530492275303),\n",
       " ('rothbard', 0.8316277232633484),\n",
       " ('metaphysical', 0.8207106134074114),\n",
       " ('zionism', 0.8126567946987308),\n",
       " ('rejection', 0.8126141317278897),\n",
       " ('authoritarian', 0.8109840579306388),\n",
       " ('contend', 0.8101501365925213),\n",
       " ('aclu', 0.8078392413248282),\n",
       " ('contradict', 0.8075189621300534)]"
      ]
     },
     "execution_count": 74,
     "metadata": {},
     "output_type": "execute_result"
    }
   ],
   "source": [
    "nearest_words(we_penn, \"anarchism\")"
   ]
  },
  {
   "cell_type": "code",
   "execution_count": 78,
   "metadata": {},
   "outputs": [
    {
     "data": {
      "text/plain": [
       "[('soviet', 0.8919573507156756),\n",
       " ('guerrilla', 0.7668216671653967),\n",
       " ('warsaw', 0.7589129466196749),\n",
       " ('dissident', 0.7412740590799167),\n",
       " ('veteran', 0.7346475360194393),\n",
       " ('coup', 0.7303312014641579),\n",
       " ('liberate', 0.7273080260705842),\n",
       " ('neutrality', 0.7189481155538215),\n",
       " ('pact', 0.7172397340185512),\n",
       " ('ussr', 0.712835335414549)]"
      ]
     },
     "execution_count": 78,
     "metadata": {},
     "output_type": "execute_result"
    }
   ],
   "source": [
    "nearest_words_to_pairs_addition(we_word2vec, 'soviet', 'union')"
   ]
  },
  {
   "cell_type": "code",
   "execution_count": 76,
   "metadata": {},
   "outputs": [
    {
     "data": {
      "text/plain": [
       "[('union', 0.8449629208665597),\n",
       " ('confederate', 0.6656608921533554),\n",
       " ('slave', 0.6369609214171088),\n",
       " ('invasion', 0.6344407750103969),\n",
       " ('warsaw', 0.6328482311938771),\n",
       " ('ally', 0.6253420991806693),\n",
       " ('secession', 0.6177441658627295),\n",
       " ('occupation', 0.6123611501317596),\n",
       " ('seize', 0.598720415174633),\n",
       " ('liberty', 0.5952388067064349)]"
      ]
     },
     "execution_count": 76,
     "metadata": {},
     "output_type": "execute_result"
    }
   ],
   "source": [
    "nearest_words_to_pairs_addition(we_penn, 'soviet', 'union')"
   ]
  },
  {
   "cell_type": "code",
   "execution_count": 77,
   "metadata": {},
   "outputs": [
    {
     "name": "stdout",
     "output_type": "stream",
     "text": [
      "Words: boy + girl\n",
      "Word2vec addition:\n",
      " [('boy', 0.90739676267495), ('thirteen', 0.729378889200718), ('teenage', 0.7238851521057705), ('beautiful', 0.7080131873160405), ('rap', 0.7046934852354403), ('astro', 0.6931712679654263), ('marple', 0.69063418681593), ('sibling', 0.685468327135792), ('kid', 0.6823671121096673), ('chop', 0.6742604057487516)] \n",
      "\n",
      "PENN addition:\n",
      " [('girl', 0.8391505005872348), ('aisha', 0.7091762278700058), ('catherine', 0.7079567266385662), ('aphrodite', 0.7056407155880299), ('margaret', 0.6983328860558038), ('wicked', 0.6932060399283371), ('pregnant', 0.6914340390000767), ('gabriel', 0.6898858371339746), ('pretend', 0.6894373559795783), ('pitcher', 0.6885295168140809)] \n",
      "\n"
     ]
    }
   ],
   "source": [
    "compare(we_word2vec, we_penn, \"boy\", \"girl\")"
   ]
  }
 ],
 "metadata": {
  "kernelspec": {
   "display_name": "Python 3",
   "language": "python",
   "name": "python3"
  },
  "language_info": {
   "codemirror_mode": {
    "name": "ipython",
    "version": 3
   },
   "file_extension": ".py",
   "mimetype": "text/x-python",
   "name": "python",
   "nbconvert_exporter": "python",
   "pygments_lexer": "ipython3",
   "version": "3.6.4"
  }
 },
 "nbformat": 4,
 "nbformat_minor": 2
}
